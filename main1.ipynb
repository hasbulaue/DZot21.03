{
 "cells": [
  {
   "cell_type": "code",
   "execution_count": 2,
   "metadata": {},
   "outputs": [
    {
     "name": "stdout",
     "output_type": "stream",
     "text": [
      "my name is Vlad , мне 23, я живу в Sochi\n"
     ]
    }
   ],
   "source": [
    "# перменаная это ячейка памяти в которую можно записать что либо \n",
    "# перменная как шкаф он имеет название и в него можно что либо положить\n",
    "name = 'Vlad '\n",
    "age = 23\n",
    "city = 'Sochi'\n",
    "\n",
    "print(f\"my name is {name}, мне {age}, я живу в {city}\")\n"
   ]
  },
  {
   "cell_type": "code",
   "execution_count": 25,
   "metadata": {},
   "outputs": [
    {
     "name": "stdout",
     "output_type": "stream",
     "text": [
      "2\n",
      "4\n",
      "6\n",
      "8\n",
      "10\n",
      "12\n",
      "14\n",
      "16\n",
      "18\n",
      "20\n"
     ]
    },
    {
     "ename": "ValueError",
     "evalue": "invalid literal for int() with base 10: ''",
     "output_type": "error",
     "traceback": [
      "\u001b[1;31m---------------------------------------------------------------------------\u001b[0m",
      "\u001b[1;31mValueError\u001b[0m                                Traceback (most recent call last)",
      "Cell \u001b[1;32mIn[25], line 9\u001b[0m\n\u001b[0;32m      7\u001b[0m a \u001b[38;5;241m=\u001b[39m \u001b[38;5;241m0\u001b[39m\n\u001b[0;32m      8\u001b[0m \u001b[38;5;28;01mwhile\u001b[39;00m \u001b[38;5;28;01mTrue\u001b[39;00m:\n\u001b[1;32m----> 9\u001b[0m     num1 \u001b[38;5;241m=\u001b[39m \u001b[38;5;28;43mint\u001b[39;49m\u001b[43m(\u001b[49m\u001b[38;5;28;43minput\u001b[39;49m\u001b[43m(\u001b[49m\u001b[38;5;124;43m\"\u001b[39;49m\u001b[38;5;124;43mВведите число\u001b[39;49m\u001b[38;5;124;43m\"\u001b[39;49m\u001b[43m)\u001b[49m\u001b[43m)\u001b[49m\n\u001b[0;32m     10\u001b[0m     \u001b[38;5;28;01mif\u001b[39;00m num1 \u001b[38;5;241m==\u001b[39m \u001b[38;5;241m0\u001b[39m:\n\u001b[0;32m     11\u001b[0m         \u001b[38;5;28;01mbreak\u001b[39;00m\n",
      "\u001b[1;31mValueError\u001b[0m: invalid literal for int() with base 10: ''"
     ]
    }
   ],
   "source": [
    "# разница между fro  while в том что при for известно кол-во сколько раз будет повторятся, а при while не известно\n",
    "# подтягиваюсь 10 раз \n",
    "for num in range(1, 21):\n",
    "    if num % 2 == 0:\n",
    "        print(num)\n",
    "\n",
    "a = 0\n",
    "while True:\n",
    "    num1 = int(input(\"Введите число\"))\n",
    "    if num1 == 0:\n",
    "        break\n",
    "    a += num1\n",
    "print(a)"
   ]
  },
  {
   "cell_type": "code",
   "execution_count": 9,
   "metadata": {},
   "outputs": [
    {
     "name": "stdout",
     "output_type": "stream",
     "text": [
      "числдо равно 0\n"
     ]
    }
   ],
   "source": [
    "# if буквально если elif еще одно условие else буквально иначе\n",
    "# если я сделаю дз у меня не будет долгов, иначе они будут\n",
    "\n",
    "a = int(input('Введите число'))\n",
    "if a > 0:\n",
    "    print('Число положительное')\n",
    "elif a <0:\n",
    "    print('число отрицательное')\n",
    "else:\n",
    "    print('числдо равно 0')"
   ]
  },
  {
   "cell_type": "code",
   "execution_count": 19,
   "metadata": {},
   "outputs": [
    {
     "name": "stdout",
     "output_type": "stream",
     "text": [
      "Здравствуйте, Dkfl!\n"
     ]
    },
    {
     "data": {
      "text/plain": [
       "8"
      ]
     },
     "execution_count": 19,
     "metadata": {},
     "output_type": "execute_result"
    }
   ],
   "source": [
    "# блок кода выполняющий определенныю задачу\n",
    "def greet_user(name):\n",
    "    print(f\"Здравствуйте, {name}!\")\n",
    "\n",
    "greet_user('Dkfl')\n",
    "\n",
    "def sum_of_two(a, b):\n",
    "    return a + b\n",
    "sum_of_two(5, 3)"
   ]
  },
  {
   "cell_type": "code",
   "execution_count": 23,
   "metadata": {},
   "outputs": [
    {
     "name": "stdout",
     "output_type": "stream",
     "text": [
      "10\n",
      "30\n",
      "40\n",
      "50\n",
      "60\n"
     ]
    }
   ],
   "source": [
    "# список это элементы которые можно изменять они находятся в одном списке с названием\n",
    "numbers = [10, 20, 30, 40, 50]\n",
    "numbers.append(60)\n",
    "del numbers[1]\n",
    "for num in numbers:\n",
    "    print(num)"
   ]
  },
  {
   "cell_type": "code",
   "execution_count": 24,
   "metadata": {},
   "outputs": [
    {
     "name": "stdout",
     "output_type": "stream",
     "text": [
      "Квадраты чисел: [1, 4, 9, 16, 25, 36, 49, 64, 81, 100]\n",
      "Чётные числа: [2, 4, 6, 8, 10]\n"
     ]
    }
   ],
   "source": [
    "# егнератор элементов списка советает в себе цикл и элементы списка в себе\n",
    "a = [x**2 for x in range(1, 11)]\n",
    "print(\"Квадраты чисел:\", a)\n",
    "\n",
    "b = [x for x in range(1, 11) if x % 2 == 0]\n",
    "print(\"Чётные числа:\", b)"
   ]
  },
  {
   "cell_type": "code",
   "execution_count": 27,
   "metadata": {},
   "outputs": [
    {
     "name": "stdout",
     "output_type": "stream",
     "text": [
      "\n",
      "Оценки студента:\n",
      "Математика: 5\n",
      "Физика: 4\n",
      "Химия: 3\n",
      "Литература: 5\n",
      "История: 4\n"
     ]
    }
   ],
   "source": [
    "# кортеж неизменяемый список вместо [] у него ()\n",
    "# словарь - пары в {} вида название - число\n",
    "\n",
    "cities = ('Москва', 'Санкт-Петербург', 'Новосибирск')\n",
    "\n",
    "#cities[1] = 'Казань'\n",
    "#кортежи неизменяемы\n",
    "\n",
    "\n",
    "grades = {\n",
    "    'Математика': 5,\n",
    "    'Физика': 4,\n",
    "    'Химия': 3,\n",
    "    'Литература': 5,\n",
    "    'История': 4\n",
    "}\n",
    "print(\"\\nОценки студента:\")\n",
    "for subject, grade in grades.items():\n",
    "    print(f\"{subject}: {grade}\")"
   ]
  },
  {
   "cell_type": "code",
   "execution_count": 29,
   "metadata": {},
   "outputs": [
    {
     "name": "stdout",
     "output_type": "stream",
     "text": [
      "[1, 2, 3, 4, 5]\n",
      "[1, 8, 27, 64, 125]\n"
     ]
    }
   ],
   "source": [
    "cube = lambda x: x ** 3\n",
    "numbers = [1, 2, 3, 4, 5]\n",
    "cubed_numbers = list(map(cube, numbers))\n",
    "\n",
    "print(numbers)\n",
    "print(cubed_numbers)"
   ]
  },
  {
   "cell_type": "code",
   "execution_count": 33,
   "metadata": {},
   "outputs": [
    {
     "name": "stdout",
     "output_type": "stream",
     "text": [
      "[2, 4, 6, 8, 10]\n",
      "[1, 4, 9, 16, 25]\n",
      "[6, 7, 8, 9, 10]\n"
     ]
    }
   ],
   "source": [
    "#функция которая передается в другую функцию\n",
    "\n",
    "# def apply_operation(numbers, operation):\n",
    "#     return [operation(num) for num in numbers]\n",
    "# def square(x):\n",
    "#     return x ** 2\n",
    "# result = apply_operation([1, 2, 3], square)\n",
    "# print(result)\n",
    "\n",
    "\n",
    "\n",
    "def processor(func, data):\n",
    "    \"\"\"Применяет callback-функцию к каждому элементу данных\"\"\"\n",
    "    return [func(item) for item in data]\n",
    "\n",
    "# Callback-функции\n",
    "def double(x):\n",
    "    return x * 2\n",
    "\n",
    "def square(x):\n",
    "    return x ** 2\n",
    "\n",
    "def add_five(x):\n",
    "    return x + 5\n",
    "\n",
    "# Применяем разные callback-функции\n",
    "numbers = [1, 2, 3, 4, 5]\n",
    "\n",
    "print(processor(double, numbers))\n",
    "print(processor(square, numbers))\n",
    "print(processor(add_five, numbers))"
   ]
  }
 ],
 "metadata": {
  "kernelspec": {
   "display_name": "Python 3",
   "language": "python",
   "name": "python3"
  },
  "language_info": {
   "codemirror_mode": {
    "name": "ipython",
    "version": 3
   },
   "file_extension": ".py",
   "mimetype": "text/x-python",
   "name": "python",
   "nbconvert_exporter": "python",
   "pygments_lexer": "ipython3",
   "version": "3.12.4"
  }
 },
 "nbformat": 4,
 "nbformat_minor": 2
}
